{
 "cells": [
  {
   "cell_type": "code",
   "execution_count": 1,
   "metadata": {},
   "outputs": [],
   "source": [
    "#TODO\n",
    "#1. Add the 64*64 outputs to one image.\n",
    "#2. For every pixel, convert it into the most probable one.Maybe depend on neighbours??\n",
    "# Could be multiple overlaps, find a way to handle that.\n",
    "#3. Convert every pixel to correct polygon json format"
   ]
  },
  {
   "cell_type": "code",
   "execution_count": 2,
   "metadata": {},
   "outputs": [],
   "source": [
    "import numpy as np\n",
    "import cv2\n",
    "import json\n",
    "#import satlaspretrain_models\n",
    "import torch\n",
    "from scipy.signal import convolve2d\n",
    "from scipy import ndimage"
   ]
  },
  {
   "cell_type": "code",
   "execution_count": 3,
   "metadata": {},
   "outputs": [],
   "source": [
    "def post_process_optimized(raw_output, patch_size):\n",
    "    \"\"\"\n",
    "    Post-processes the raw output from the model using convolution for faster accumulation,\n",
    "    and then determines class labels using argmax.\n",
    "    \"\"\"\n",
    "    if not isinstance(raw_output, np.ndarray):\n",
    "        raise TypeError(\"Input must be a NumPy array.\")\n",
    "    if raw_output.shape != (1024, 1024, 5):\n",
    "        raise ValueError(\"Input must have shape (1024, 1024, 5).\")\n",
    "\n",
    "    kernel = np.ones((patch_size, patch_size), dtype=np.float32).reshape(patch_size, patch_size, 1)\n",
    "    # Use ndimage.convolve once for all channels\n",
    "    accumulated_probs = ndimage.convolve(raw_output, kernel, mode='constant', cval=0)\n",
    "\n",
    "    class_labels = np.argmax(accumulated_probs, axis=-1)\n",
    "    return class_labels\n",
    "\n",
    "def test_post_process_optimized():\n",
    "    positions = np.mgrid[0:1024:256, 0:1024:256].reshape(2, -1).T\n",
    "    \n",
    "    probs = np.random.dirichlet(np.ones(5)*2, size=positions.shape[0])\n",
    "    probs[:,0] = np.clip(probs[:,0], 0.3, 1.0)\n",
    "    probs = probs / probs.sum(axis=1, keepdims=True)\n",
    "    \n",
    "    outputs = [(x, y, p.tolist()) for (x, y), p in zip(positions, probs)]\n",
    "    print((outputs[0]))\n",
    "    return post_process_optimized(outputs)"
   ]
  },
  {
   "cell_type": "code",
   "execution_count": 4,
   "metadata": {},
   "outputs": [],
   "source": [
    "import pickle\n",
    "\n",
    "with open('reconstructed_image.pkl', 'rb') as f:\n",
    "    predictions = pickle.load(f)"
   ]
  },
  {
   "cell_type": "code",
   "execution_count": 5,
   "metadata": {},
   "outputs": [
    {
     "data": {
      "text/plain": [
       "(1024, 1024, 5)"
      ]
     },
     "execution_count": 5,
     "metadata": {},
     "output_type": "execute_result"
    }
   ],
   "source": [
    "(predictions.shape)"
   ]
  },
  {
   "cell_type": "code",
   "execution_count": 6,
   "metadata": {},
   "outputs": [
    {
     "data": {
      "text/plain": [
       "array([[1, 1, 1, ..., 1, 1, 1],\n",
       "       [1, 1, 1, ..., 1, 1, 1],\n",
       "       [1, 1, 1, ..., 1, 1, 1],\n",
       "       ...,\n",
       "       [0, 0, 2, ..., 1, 1, 1],\n",
       "       [0, 0, 2, ..., 1, 1, 1],\n",
       "       [0, 0, 0, ..., 1, 1, 1]])"
      ]
     },
     "execution_count": 6,
     "metadata": {},
     "output_type": "execute_result"
    }
   ],
   "source": [
    "raw_classes = np.argmax(predictions, axis=-1)\n",
    "raw_classes"
   ]
  },
  {
   "cell_type": "code",
   "execution_count": 7,
   "metadata": {},
   "outputs": [],
   "source": [
    "assigned_labels = post_process_optimized(predictions, 64)"
   ]
  },
  {
   "cell_type": "code",
   "execution_count": 8,
   "metadata": {},
   "outputs": [
    {
     "data": {
      "text/plain": [
       "array([[1, 1, 1, ..., 1, 1, 1],\n",
       "       [1, 1, 1, ..., 1, 1, 1],\n",
       "       [1, 1, 1, ..., 1, 1, 1],\n",
       "       ...,\n",
       "       [0, 0, 0, ..., 1, 1, 1],\n",
       "       [0, 0, 0, ..., 1, 1, 1],\n",
       "       [0, 0, 0, ..., 1, 1, 1]])"
      ]
     },
     "execution_count": 8,
     "metadata": {},
     "output_type": "execute_result"
    }
   ],
   "source": [
    "assigned_labels"
   ]
  },
  {
   "cell_type": "markdown",
   "metadata": {},
   "source": [
    "## torch and cuda version"
   ]
  },
  {
   "cell_type": "code",
   "execution_count": 8,
   "metadata": {},
   "outputs": [],
   "source": [
    "import torch\n",
    "\n",
    "def post_process_torch(outputs, gamma=0.5):\n",
    "    device = torch.device(\"cpu\")  # Assuming model outputs are on CUDA\n",
    "    empty_img = torch.zeros((1024, 1024, 5), device=device)\n",
    "    \n",
    "    # Convert outputs to tensor once\n",
    "    coords = torch.tensor([[x,y] for x,y,_ in outputs], device=device)\n",
    "    probs = torch.tensor([p for _,_,p in outputs], device=device)\n",
    "    \n",
    "    # Batch assignment\n",
    "    for coord, prob in zip(coords, probs):\n",
    "        empty_img[coord[0]:coord[0]+64, coord[1]:coord[1]+64] += prob\n",
    "    \n",
    "    padded = torch.nn.functional.pad(empty_img, (0,0,1,1,1,1))\n",
    "    neighbors = gamma * (padded[:-2, 1:-1] + padded[2:, 1:-1] + \n",
    "                        padded[1:-1, :-2] + padded[1:-1, 2:])\n",
    "    \n",
    "    return torch.argmax(empty_img + neighbors, dim=2)  # Keep on GPU if needed"
   ]
  },
  {
   "cell_type": "markdown",
   "metadata": {},
   "source": [
    "## From pixel img to polygon"
   ]
  },
  {
   "cell_type": "code",
   "execution_count": 9,
   "metadata": {},
   "outputs": [],
   "source": [
    "\n",
    "def converter(tensor, size_limit=1000):\n",
    "    # Dictionary to store polygons for each unique value\n",
    "    polygons = {}\n",
    "    # Ensure tensor is numpy and squeeze to remove batch dimension\n",
    "    if isinstance(tensor, torch.Tensor):\n",
    "        tensor = tensor.squeeze().numpy().astype(np.uint8)\n",
    "    \n",
    "    for val in range(5):  # Iterate over unique values (0-4)\n",
    "        mask = np.uint8((tensor == val) * 255)  # Create binary mask\n",
    "        \n",
    "        # Find contours (polygons) of connected components\n",
    "        contours, _ = cv2.findContours(mask, cv2.RETR_EXTERNAL, cv2.CHAIN_APPROX_SIMPLE)\n",
    "        \n",
    "        # Filter out small connected components\n",
    "        large_contours = []\n",
    "        for contour in contours:\n",
    "            area = cv2.contourArea(contour)\n",
    "            if area >= size_limit:  # Keep only contours with area >= size_limit\n",
    "                large_contours.append(contour)\n",
    "        \n",
    "        # Create a new mask and draw the large contours\n",
    "        cleaned_mask = np.zeros_like(mask)\n",
    "        cv2.drawContours(cleaned_mask, large_contours, -1, 255, thickness=cv2.FILLED)\n",
    "        \n",
    "        # Update the original mask\n",
    "        tensor[tensor == val] = 0  # Clear current value in the original mask\n",
    "        tensor[cleaned_mask == 255] = val  # Add cleaned mask\n",
    "        \n",
    "        # Convert contours to a list of polygons\n",
    "        polygons[val] = [c.reshape(-1, 2).tolist() for c in large_contours]  # Use filtered contours\n",
    "    \n",
    "    return polygons\n",
    "\n",
    "# Test tensor with one square of 1s in top left corner of size 50x50\n",
    "# Rest of the tensor is zero\n",
    "test_tensor = torch.zeros((1, 1024, 1024))\n",
    "# Create a square of 1s\n",
    "test_tensor[0, 0:120, 0:120] = 1\n",
    "\n",
    "# Apply the converter with a large size_limit\n",
    "#final_prediction = converter(tensor=test_tensor, size_limit=10000)\n",
    "final_prediction = converter(assigned_labels)\n",
    "\n",
    "\n",
    "def write_json(polygons, filename:str):\n",
    "    #Function that takes list of polygons and writes them to a json file.\n",
    "    #The list of polygons is a list of lists of polygons, where each polygon is a list of points.\n",
    "    # Dictionary to map unique values to class names\n",
    "    numper_2_class={1:\"plantation\",2:\"grassland_shrubland\",3:\"mining\",4:\"logging\"}\n",
    "    with open(f\"{filename}.json\", \"w\") as file:\n",
    "        images_overview={\"images\":[]}\n",
    "        # Iterate over images in polygons\n",
    "        for i in range(len(polygons)):\n",
    "\n",
    "            curr={\"file_name\":f\"evaluation_{i}.tif\",\"annotations\":[]}\n",
    "            #Iterate over types of polygons in image\n",
    "            for j in range(1,len(polygons[i])):\n",
    "                # Convert polygons to list of coordinates\n",
    "\n",
    "                for k in range(len(polygons[i][j])):\n",
    "                    listed_polygons=[]\n",
    "\n",
    "                    for p in range(len(polygons[i][j][k])):\n",
    "                        listed_polygons.append(polygons[i][j][k][p][0])\n",
    "                        listed_polygons.append(polygons[i][j][k][p][1])\n",
    "                    curr[\"annotations\"].append({\"class\":numper_2_class[j],\"segmentation\":listed_polygons})\n",
    "            images_overview[\"images\"].append(curr)\n",
    "        file.write(json.dumps(images_overview, ensure_ascii=False, indent=4))\n",
    "write_json([final_prediction],\"test\")\n",
    "# Now, polygons[val] contains a list of polygons for each unique value.\n"
   ]
  },
  {
   "cell_type": "code",
   "execution_count": 8,
   "metadata": {},
   "outputs": [
    {
     "name": "stdout",
     "output_type": "stream",
     "text": [
      "Rasterized image saved to rasterized_prediction.png\n"
     ]
    }
   ],
   "source": [
    "from PIL import Image\n",
    "\n",
    "\n",
    "\n",
    "# Assuming y_test is a numpy array or torch tensor containing the\n",
    "# class labels for the entire 1024x1024 image.\n",
    "# Example:\n",
    "# y_test = ... # Your test labels (numpy array or torch tensor)\n",
    "\n",
    "# If y_test is a torch tensor, convert it to a numpy array\n",
    "if isinstance(assigned_labels, torch.Tensor):\n",
    "    assigned_labels = assigned_labels.cpu().numpy()  # Move to CPU if it's on GPU\n",
    "\n",
    "# Ensure y_test is of integer type\n",
    "assigned_labels = assigned_labels.astype(np.uint8)\n",
    "\n",
    "# Create a color mapping for the classes\n",
    "color_map = {\n",
    "    0: [0, 0, 0],      # background: black\n",
    "    1: [255, 0, 0],    # plantation: red\n",
    "    2: [0, 255, 0],    # grassland_shrubland: green\n",
    "    3: [0, 0, 255],    # mining: blue\n",
    "    4: [255, 255, 0]     # logging: yellow\n",
    "}\n",
    "\n",
    "# Create an RGB image where each class is represented by its color\n",
    "height, width = assigned_labels.shape\n",
    "rgb_image = np.zeros((height, width, 3), dtype=np.uint8)\n",
    "for i in range(height):\n",
    "    for j in range(width):\n",
    "        class_id = assigned_labels[i, j]\n",
    "        rgb_image[i, j] = color_map[class_id]\n",
    "\n",
    "# Create a PIL image from the numpy array\n",
    "img = Image.fromarray(rgb_image)\n",
    "\n",
    "# Save the image to a file\n",
    "img.save(\"rasterized_prediction.png\")\n",
    "\n",
    "print(\"Rasterized image saved to rasterized_prediction.png\")"
   ]
  },
  {
   "cell_type": "code",
   "execution_count": 8,
   "metadata": {},
   "outputs": [
    {
     "name": "stdout",
     "output_type": "stream",
     "text": [
      "Rasterized image saved to rasterized_prediction.png\n"
     ]
    }
   ],
   "source": [
    "from PIL import Image\n",
    "\n",
    "\n",
    "\n",
    "# Assuming y_test is a numpy array or torch tensor containing the\n",
    "# class labels for the entire 1024x1024 image.\n",
    "# Example:\n",
    "# y_test = ... # Your test labels (numpy array or torch tensor)\n",
    "\n",
    "# If y_test is a torch tensor, convert it to a numpy array\n",
    "if isinstance(raw_classes, torch.Tensor):\n",
    "    raw_classes = raw_classes.cpu().numpy()  # Move to CPU if it's on GPU\n",
    "\n",
    "# Ensure y_test is of integer type\n",
    "raw_classes = raw_classes.astype(np.uint8)\n",
    "\n",
    "# Create a color mapping for the classes\n",
    "color_map = {\n",
    "    0: [0, 0, 0],      # background: black\n",
    "    1: [255, 0, 0],    # plantation: red\n",
    "    2: [0, 255, 0],    # grassland_shrubland: green\n",
    "    3: [0, 0, 255],    # mining: blue\n",
    "    4: [255, 255, 0]     # logging: yellow\n",
    "}\n",
    "\n",
    "# Create an RGB image where each class is represented by its color\n",
    "height, width = raw_classes.shape\n",
    "rgb_image = np.zeros((height, width, 3), dtype=np.uint8)\n",
    "for i in range(height):\n",
    "    for j in range(width):\n",
    "        class_id = raw_classes[i, j]\n",
    "        rgb_image[i, j] = color_map[class_id]\n",
    "\n",
    "# Create a PIL image from the numpy array\n",
    "img = Image.fromarray(rgb_image)\n",
    "\n",
    "# Save the image to a file\n",
    "img.save(\"rasterized_prediction.png\")\n",
    "\n",
    "print(\"Rasterized image saved to rasterized_prediction.png\")"
   ]
  },
  {
   "cell_type": "code",
   "execution_count": null,
   "metadata": {},
   "outputs": [],
   "source": []
  }
 ],
 "metadata": {
  "kernelspec": {
   "display_name": "satlaspretrain",
   "language": "python",
   "name": "python3"
  },
  "language_info": {
   "codemirror_mode": {
    "name": "ipython",
    "version": 3
   },
   "file_extension": ".py",
   "mimetype": "text/x-python",
   "name": "python",
   "nbconvert_exporter": "python",
   "pygments_lexer": "ipython3",
   "version": "3.9.18"
  }
 },
 "nbformat": 4,
 "nbformat_minor": 2
}
