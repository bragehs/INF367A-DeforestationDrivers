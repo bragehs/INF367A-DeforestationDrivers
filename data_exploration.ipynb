{
 "cells": [
  {
   "cell_type": "code",
   "execution_count": 2,
   "metadata": {},
   "outputs": [],
   "source": [
    "from preprocessing import ProcessData\n",
    "from models import SatelliteSegmentation\n",
    "import numpy as np\n",
    "from sklearn.metrics import accuracy_score\n",
    "import torch"
   ]
  },
  {
   "cell_type": "code",
   "execution_count": 3,
   "metadata": {},
   "outputs": [],
   "source": [
    "#test = ProcessData()\n",
    "#test.preprocess()\n",
    "#test.save_preprocessed()"
   ]
  },
  {
   "cell_type": "code",
   "execution_count": 4,
   "metadata": {},
   "outputs": [
    {
     "name": "stdout",
     "output_type": "stream",
     "text": [
      "Loaded preprocessed data from /Users/bragehs/Documents/INF367A-DeforestationDrivers\n"
     ]
    }
   ],
   "source": [
    "test = ProcessData()\n",
    "test.prepared_data, test.labels = test.load_preprocessed_data()"
   ]
  },
  {
   "cell_type": "code",
   "execution_count": 5,
   "metadata": {},
   "outputs": [],
   "source": [
    "train_sample = 5\n",
    "train_data = test.prepared_data[:train_sample]\n",
    "train_labels = test.labels[:train_sample]"
   ]
  },
  {
   "cell_type": "code",
   "execution_count": 6,
   "metadata": {},
   "outputs": [
    {
     "data": {
      "text/plain": [
       "(5, 1024, 1024)"
      ]
     },
     "execution_count": 6,
     "metadata": {},
     "output_type": "execute_result"
    }
   ],
   "source": [
    "train_labels.shape"
   ]
  },
  {
   "cell_type": "code",
   "execution_count": 7,
   "metadata": {},
   "outputs": [],
   "source": [
    "test_sample = 1\n",
    "test_data = test.prepared_data[train_sample:train_sample + test_sample]\n",
    "test_labels = test.labels[train_sample:train_sample + test_sample]"
   ]
  },
  {
   "cell_type": "code",
   "execution_count": 11,
   "metadata": {},
   "outputs": [
    {
     "name": "stdout",
     "output_type": "stream",
     "text": [
      "Epoch 1/10, Loss: 1.6233\n",
      "Epoch 2/10, Loss: 1.6139\n",
      "Epoch 3/10, Loss: 1.6115\n",
      "Epoch 4/10, Loss: 1.6104\n",
      "Epoch 5/10, Loss: 1.6099\n",
      "Epoch 6/10, Loss: 1.6096\n",
      "Epoch 7/10, Loss: 1.6095\n",
      "Epoch 8/10, Loss: 1.6095\n",
      "Epoch 9/10, Loss: 1.6095\n",
      "Epoch 10/10, Loss: 1.6094\n",
      "Test Accuracy: 19.99%\n"
     ]
    },
    {
     "data": {
      "text/plain": [
       "19.9937555525038"
      ]
     },
     "execution_count": 11,
     "metadata": {},
     "output_type": "execute_result"
    }
   ],
   "source": [
    "# Initialize the segmentation pipeline\n",
    "segmentation_pipeline = SatelliteSegmentation(train_data, train_labels)\n",
    "\n",
    "# Train the model\n",
    "segmentation_pipeline.train(num_epochs=10)\n",
    "\n",
    "# Evaluate the model\n",
    "segmentation_pipeline.evaluate()"
   ]
  },
  {
   "cell_type": "code",
   "execution_count": null,
   "metadata": {},
   "outputs": [],
   "source": []
  }
 ],
 "metadata": {
  "kernelspec": {
   "display_name": "opencv_env",
   "language": "python",
   "name": "python3"
  },
  "language_info": {
   "codemirror_mode": {
    "name": "ipython",
    "version": 3
   },
   "file_extension": ".py",
   "mimetype": "text/x-python",
   "name": "python",
   "nbconvert_exporter": "python",
   "pygments_lexer": "ipython3",
   "version": "3.8.18"
  }
 },
 "nbformat": 4,
 "nbformat_minor": 2
}
