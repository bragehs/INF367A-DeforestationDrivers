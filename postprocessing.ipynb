{
 "cells": [
  {
   "cell_type": "code",
   "execution_count": null,
   "metadata": {},
   "outputs": [],
   "source": [
    "#TODO\n",
    "#1. Add the 64*64 outputs to one image.\n",
    "#2. For every pixel, convert it into the most probable one.Maybe depend on neighbours??\n",
    "# Could be multiple overlaps, find a way to handle that.\n",
    "#3. Convert every pixel to correct polygon json format"
   ]
  },
  {
   "cell_type": "code",
   "execution_count": null,
   "metadata": {},
   "outputs": [],
   "source": [
    "import numpy as np"
   ]
  },
  {
   "cell_type": "code",
   "execution_count": 2,
   "metadata": {},
   "outputs": [],
   "source": [
    "def post_process_optimized(outputs, gamma=0.5):\n",
    "    empty_img = np.zeros((1024, 1024, 5))\n",
    "    processed_img = np.zeros((1024, 1024), dtype=int)\n",
    "    \n",
    "    for x, y, probs in outputs:\n",
    "        empty_img[x:x+64, y:y+64] += np.array(probs)\n",
    "    \n",
    "    padded = np.pad(empty_img, ((1,1), (1,1), (0,0)))\n",
    "    neighbors = gamma * (padded[:-2, 1:-1] + padded[2:, 1:-1] + \n",
    "                        padded[1:-1, :-2] + padded[1:-1, 2:])\n",
    "    \n",
    "    processed_img = np.argmax(empty_img + neighbors, axis=2)\n",
    "    return processed_img\n",
    "\n",
    "def test_post_process_optimized():\n",
    "    positions = np.mgrid[0:1024:64, 0:1024:64].reshape(2, -1).T\n",
    "    \n",
    "    probs = np.random.dirichlet(np.ones(5)*2, size=positions.shape[0])\n",
    "    probs[:,0] = np.clip(probs[:,0], 0.3, 1.0)\n",
    "    probs = probs / probs.sum(axis=1, keepdims=True)\n",
    "    \n",
    "    outputs = [(x, y, p.tolist()) for (x, y), p in zip(positions, probs)]\n",
    "    return post_process_optimized(outputs)"
   ]
  },
  {
   "cell_type": "markdown",
   "metadata": {},
   "source": [
    "## torch and cuda version"
   ]
  },
  {
   "cell_type": "code",
   "execution_count": null,
   "metadata": {},
   "outputs": [],
   "source": [
    "import torch\n",
    "\n",
    "def post_process_torch(outputs, gamma=0.5):\n",
    "    device = torch.device(\"cuda\")  # Assuming model outputs are on CUDA\n",
    "    empty_img = torch.zeros((1024, 1024, 5), device=device)\n",
    "    \n",
    "    # Convert outputs to tensor once\n",
    "    coords = torch.tensor([[x,y] for x,y,_ in outputs], device=device)\n",
    "    probs = torch.tensor([p for _,_,p in outputs], device=device)\n",
    "    \n",
    "    # Batch assignment\n",
    "    for coord, prob in zip(coords, probs):\n",
    "        empty_img[coord[0]:coord[0]+64, coord[1]:coord[1]+64] += prob\n",
    "    \n",
    "    padded = torch.nn.functional.pad(empty_img, (0,0,1,1,1,1))\n",
    "    neighbors = gamma * (padded[:-2, 1:-1] + padded[2:, 1:-1] + \n",
    "                        padded[1:-1, :-2] + padded[1:-1, 2:])\n",
    "    \n",
    "    return torch.argmax(empty_img + neighbors, dim=2)  # Keep on GPU if needed"
   ]
  }
 ],
 "metadata": {
  "kernelspec": {
   "display_name": "INF265",
   "language": "python",
   "name": "python3"
  },
  "language_info": {
   "codemirror_mode": {
    "name": "ipython",
    "version": 3
   },
   "file_extension": ".py",
   "mimetype": "text/x-python",
   "name": "python",
   "nbconvert_exporter": "python",
   "pygments_lexer": "ipython3",
   "version": "3.9.21"
  }
 },
 "nbformat": 4,
 "nbformat_minor": 2
}
