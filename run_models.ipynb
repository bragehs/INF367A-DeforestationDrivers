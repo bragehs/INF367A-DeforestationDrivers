{
 "cells": [
  {
   "cell_type": "code",
   "execution_count": 1,
   "metadata": {},
   "outputs": [],
   "source": [
    "from preprocessing import ProcessData\n",
    "from models import SatelliteDataset\n",
    "import numpy as np\n",
    "from sklearn.metrics import f1_score\n",
    "import torch\n",
    "import satlaspretrain_models\n",
    "from torch.utils.data import DataLoader, Dataset\n",
    "from torch.utils.tensorboard import SummaryWriter\n",
    "import os\n",
    "import tqdm\n",
    "import torch.nn as nn"
   ]
  },
  {
   "cell_type": "code",
   "execution_count": 4,
   "metadata": {},
   "outputs": [],
   "source": [
    "# Define patch size and stride\n",
    "PATCH_SIZE = 256  # Adjust as needed (256, 512, etc.)\n",
    "STRIDE = 128  # Overlapping patches\n",
    "\n",
    "class Sentinel2SegmentationDataset(Dataset):\n",
    "    def __init__(self, images, labels, patch_size=PATCH_SIZE, stride=STRIDE, transform=None):\n",
    "        \"\"\"\n",
    "        images: Tensor or numpy array of shape (N, 12, H, W)\n",
    "        labels: Tensor or numpy array of shape (N, H, W)\n",
    "        patch_size: Size of the patches (default 256)\n",
    "        stride: Stride for patching (default 128 for overlapping)\n",
    "        transform: Optional image transformations\n",
    "        \"\"\"\n",
    "        self.images = images\n",
    "        self.labels = labels\n",
    "        self.patch_size = patch_size\n",
    "        self.stride = stride\n",
    "        self.transform = transform\n",
    "        self.patches = []  # Store (image_patch, label_patch) pairs\n",
    "\n",
    "        self.create_patches()\n",
    "\n",
    "    def create_patches(self):\n",
    "        \"\"\"Extracts patches from the dataset.\"\"\"\n",
    "        N, C, H, W = self.images.shape\n",
    "\n",
    "        for i in range(N):\n",
    "            img = self.images[i]  # Shape (12, H, W)\n",
    "            lbl = self.labels[i]  # Shape (H, W)\n",
    "\n",
    "            for y in range(0, H - self.patch_size + 1, self.stride):\n",
    "                for x in range(0, W - self.patch_size + 1, self.stride):\n",
    "                    img_patch = img[:, y:y + self.patch_size, x:x + self.patch_size]  # (12, 256, 256)\n",
    "                    lbl_patch = lbl[y:y + self.patch_size, x:x + self.patch_size]  # (256, 256)\n",
    "                    \n",
    "                    self.patches.append((img_patch, lbl_patch))\n",
    "\n",
    "    def __len__(self):\n",
    "        return len(self.patches)\n",
    "\n",
    "    def __getitem__(self, idx):\n",
    "        img_patch, lbl_patch = self.patches[idx]\n",
    "\n",
    "        # Apply transformations if any\n",
    "        if self.transform:\n",
    "            img_patch = self.transform(img_patch)\n",
    "\n",
    "        return torch.as_tensor(img_patch, dtype=torch.float32), torch.as_tensor(lbl_patch, dtype=torch.long)\n"
   ]
  },
  {
   "cell_type": "code",
   "execution_count": 5,
   "metadata": {},
   "outputs": [],
   "source": [
    "#test = ProcessData()\n",
    "#test.preprocess()\n",
    "#test.save_preprocessed()"
   ]
  },
  {
   "cell_type": "code",
   "execution_count": 6,
   "metadata": {},
   "outputs": [
    {
     "name": "stdout",
     "output_type": "stream",
     "text": [
      "Loaded preprocessed data from /Users/bragehs/Documents/INF367A-DeforestationDrivers\n"
     ]
    }
   ],
   "source": [
    "test = ProcessData()\n",
    "test.prepared_data, test.labels = test.load_preprocessed_data()\n",
    "test.prepared_data = test.prepared_data[:, :9, :, :]"
   ]
  },
  {
   "cell_type": "code",
   "execution_count": 7,
   "metadata": {},
   "outputs": [
    {
     "data": {
      "text/plain": [
       "(176, 9, 1024, 1024)"
      ]
     },
     "execution_count": 7,
     "metadata": {},
     "output_type": "execute_result"
    }
   ],
   "source": [
    "test.prepared_data.shape"
   ]
  },
  {
   "cell_type": "code",
   "execution_count": 8,
   "metadata": {},
   "outputs": [],
   "source": [
    "train_sample = 20\n",
    "train_data = test.prepared_data[:train_sample]\n",
    "train_labels = test.labels[:train_sample]"
   ]
  },
  {
   "cell_type": "code",
   "execution_count": 9,
   "metadata": {},
   "outputs": [],
   "source": [
    "val_sample = 15\n",
    "val_data = test.prepared_data[train_sample:train_sample + val_sample]\n",
    "val_labels = test.labels[train_sample:train_sample + val_sample]"
   ]
  },
  {
   "cell_type": "code",
   "execution_count": 10,
   "metadata": {},
   "outputs": [],
   "source": [
    "test_sample = 1\n",
    "test_data = test.prepared_data[174:175]\n",
    "test_labels = test.labels[train_sample:val_sample + train_sample + test_sample]"
   ]
  },
  {
   "cell_type": "code",
   "execution_count": 11,
   "metadata": {},
   "outputs": [
    {
     "data": {
      "text/plain": [
       "(1, 9, 1024, 1024)"
      ]
     },
     "execution_count": 11,
     "metadata": {},
     "output_type": "execute_result"
    }
   ],
   "source": [
    "test_data.shape"
   ]
  },
  {
   "cell_type": "code",
   "execution_count": 12,
   "metadata": {},
   "outputs": [],
   "source": [
    "weights_manager = satlaspretrain_models.Weights()"
   ]
  },
  {
   "cell_type": "code",
   "execution_count": 13,
   "metadata": {},
   "outputs": [],
   "source": [
    "class FocalLoss(nn.Module):\n",
    "    def __init__(self, alpha=None, gamma=2.0):\n",
    "        super(FocalLoss, self).__init__()\n",
    "        self.alpha = alpha if alpha is not None else torch.tensor([0.1, 1.0, 1.0, 1.0, 1.0])\n",
    "        self.gamma = gamma\n",
    "\n",
    "    def forward(self, logits, targets):\n",
    "        ce_loss = torch.nn.functional.cross_entropy(logits, targets, weight=self.alpha, reduction='none')\n",
    "        pt = torch.exp(-ce_loss)\n",
    "        focal_loss = ((1 - pt) ** self.gamma) * ce_loss\n",
    "        return focal_loss.mean()\n",
    "\n"
   ]
  },
  {
   "cell_type": "code",
   "execution_count": 14,
   "metadata": {},
   "outputs": [],
   "source": [
    "# Experiment arguments.\n",
    "device = torch.device('cpu')\n",
    "num_epochs = 20\n",
    "class_weights = torch.tensor([0.1, 1.0, 1.0, 1.0, 1.0]).to(device)\n",
    "criterion = torch.nn.CrossEntropyLoss(weight=class_weights)\n",
    "criterion_2 = FocalLoss()\n",
    "val_step = 10  # evaluate every val_step epochs\n",
    "save_path = os.path.split(os.getcwd())[0] + '/weights/'  # where to save model weights\n",
    "os.makedirs(save_path, exist_ok=True)"
   ]
  },
  {
   "cell_type": "code",
   "execution_count": 15,
   "metadata": {},
   "outputs": [
    {
     "data": {
      "text/plain": [
       "'/Users/bragehs/Documents/weights/'"
      ]
     },
     "execution_count": 15,
     "metadata": {},
     "output_type": "execute_result"
    }
   ],
   "source": [
    "save_path"
   ]
  },
  {
   "cell_type": "code",
   "execution_count": 16,
   "metadata": {},
   "outputs": [],
   "source": [
    "model = weights_manager.get_pretrained_model(\"Sentinel2_SwinT_SI_MS\", fpn=True, \n",
    "                                             head=satlaspretrain_models.Head.SEGMENT, \n",
    "                                                num_categories=5, device='cpu')\n",
    "model = model.to(device)"
   ]
  },
  {
   "cell_type": "code",
   "execution_count": 17,
   "metadata": {},
   "outputs": [],
   "source": [
    "optimizer = torch.optim.Adam(model.parameters(), lr=0.001)"
   ]
  },
  {
   "cell_type": "code",
   "execution_count": 18,
   "metadata": {},
   "outputs": [
    {
     "name": "stdout",
     "output_type": "stream",
     "text": [
      "Image Patch Shape: torch.Size([8, 9, 256, 256])\n",
      "Label Patch Shape: torch.Size([8, 256, 256])\n"
     ]
    }
   ],
   "source": [
    "train_dataset = Sentinel2SegmentationDataset(train_data, train_labels)\n",
    "val_dataset = Sentinel2SegmentationDataset(val_data, val_labels)\n",
    "test_dataset = Sentinel2SegmentationDataset(test_data, test_labels)\n",
    "train_dataloader = DataLoader(train_dataset, batch_size=8, shuffle=True, num_workers=0)\n",
    "val_dataloader = DataLoader(val_dataset, batch_size=8, shuffle=False, num_workers=0)\n",
    "\n",
    "\n",
    "# Check dataset output\n",
    "for img_patch, lbl_patch in train_dataloader:\n",
    "    print(\"Image Patch Shape:\", img_patch.shape)  # Expected: (8, 12, 256, 256)\n",
    "    print(\"Label Patch Shape:\", lbl_patch.shape)  # Expected: (8, 256, 256)\n",
    "    break"
   ]
  },
  {
   "cell_type": "code",
   "execution_count": null,
   "metadata": {},
   "outputs": [],
   "source": []
  },
  {
   "cell_type": "code",
   "execution_count": 2,
   "metadata": {},
   "outputs": [
    {
     "ename": "NameError",
     "evalue": "name 'num_epochs' is not defined",
     "output_type": "error",
     "traceback": [
      "\u001b[0;31m---------------------------------------------------------------------------\u001b[0m",
      "\u001b[0;31mNameError\u001b[0m                                 Traceback (most recent call last)",
      "Cell \u001b[0;32mIn[2], line 3\u001b[0m\n\u001b[1;32m      1\u001b[0m \u001b[38;5;66;03m# Training loop.\u001b[39;00m\n\u001b[1;32m      2\u001b[0m writer \u001b[38;5;241m=\u001b[39m SummaryWriter()\n\u001b[0;32m----> 3\u001b[0m \u001b[38;5;28;01mfor\u001b[39;00m epoch \u001b[38;5;129;01min\u001b[39;00m \u001b[38;5;28mrange\u001b[39m(\u001b[43mnum_epochs\u001b[49m):\n\u001b[1;32m      4\u001b[0m     model\u001b[38;5;241m.\u001b[39mtrain()\n\u001b[1;32m      5\u001b[0m     \u001b[38;5;28mprint\u001b[39m(\u001b[38;5;124mf\u001b[39m\u001b[38;5;124m\"\u001b[39m\u001b[38;5;124mStarting Epoch... \u001b[39m\u001b[38;5;132;01m{\u001b[39;00mepoch\u001b[38;5;132;01m}\u001b[39;00m\u001b[38;5;124m\"\u001b[39m)\n",
      "\u001b[0;31mNameError\u001b[0m: name 'num_epochs' is not defined"
     ]
    }
   ],
   "source": [
    "# Training loop.\n",
    "writer = SummaryWriter()\n",
    "for epoch in range(num_epochs):\n",
    "    model.train()\n",
    "    print(f\"Starting Epoch... {epoch}\")\n",
    "    epoch_loss = 0\n",
    "    num_batches = 0\n",
    "    \n",
    "    # Progress bar for each epoch\n",
    "    progress_bar = tqdm.tqdm(train_dataloader, desc=f'Epoch {epoch}')\n",
    "    \n",
    "    for data, target in progress_bar:\n",
    "        data = data.to(device)\n",
    "        target = target.to(device)\n",
    "        \n",
    "        output = model(data)\n",
    "        loss = criterion_2(output[0], target)\n",
    "        loss.backward()\n",
    "        epoch_loss += loss.item()\n",
    "        num_batches += 1\n",
    " \n",
    " \n",
    "        optimizer.step()\n",
    "        optimizer.zero_grad()\n",
    "        \n",
    "        # Update progress bar\n",
    "        progress_bar.set_postfix({'batch_loss': f'{loss.item():.4f}'})\n",
    "    \n",
    "    # Calculate and log average epoch loss\n",
    "    avg_epoch_loss = epoch_loss / num_batches\n",
    "    writer.add_scalar('Training/Loss', avg_epoch_loss, epoch)\n",
    "    print(f\"Epoch {epoch} Average Loss = {avg_epoch_loss:.4f}\")\n",
    "\n",
    "    # Validation.\n",
    "    if epoch == 0 or (epoch % val_step == 0):\n",
    "        model.eval()\n",
    "        val_predictions = []\n",
    "        val_targets = []\n",
    "\n",
    "        with torch.no_grad():\n",
    "            for val_data, val_target in val_dataloader:\n",
    "                val_data = val_data.to(device)\n",
    "                val_target = val_target.to(device)\n",
    "\n",
    "                val_output, val_loss = model(val_data, val_target)\n",
    "\n",
    "                pred = np.argmax(val_output.cpu().detach().numpy(), axis=1).flatten()\n",
    "                true = ((val_target.cpu().detach().numpy()).astype(int)).flatten()\n",
    "                \n",
    "                val_predictions.extend(pred)\n",
    "                val_targets.extend(true)\n",
    "\n",
    "    val_f1 = f1_score(val_predictions, val_targets, average='weighted')\n",
    "    print(\"Validation F1 score = \", val_f1)\n",
    "\n",
    "    # Save the model checkpoint at the end of each epoch.\n",
    "    torch.save(model.state_dict(), save_path + '_model_weights.pth')"
   ]
  },
  {
   "cell_type": "code",
   "execution_count": 19,
   "metadata": {},
   "outputs": [],
   "source": [
    "def load_model(save_path):\n",
    "    # 1. Initialize model architecture\n",
    "    \n",
    "    # 2. Load the saved weights\n",
    "    weights_path = save_path + '_model_weights.pth'\n",
    "    model.load_state_dict(torch.load(weights_path))\n",
    "    \n",
    "    # 3. Set to evaluation mode\n",
    "    model.eval()\n",
    "    \n",
    "    return model"
   ]
  },
  {
   "cell_type": "code",
   "execution_count": 20,
   "metadata": {},
   "outputs": [],
   "source": [
    "loaded_model = load_model(save_path)"
   ]
  },
  {
   "cell_type": "code",
   "execution_count": 21,
   "metadata": {},
   "outputs": [],
   "source": [
    "def predict(model, test_dataset):\n",
    "    test_dataloader = DataLoader(test_dataset, batch_size=1, shuffle=False, num_workers=0)\n",
    "    \n",
    "    predictions = []\n",
    "    print(\"Starting prediction...\")\n",
    "    print(test_dataset.__len__())   \n",
    "    for data, target in test_dataloader:\n",
    "        data = data.to(device)\n",
    "        target = target.to(device)\n",
    "        \n",
    "        output = model(data)[0]\n",
    "        print(type(output))\n",
    "        pred = np.argmax(output.cpu().detach().numpy(), axis=1).flatten()\n",
    "        predictions.extend(pred)\n",
    "        print(pred)\n",
    "    return predictions"
   ]
  },
  {
   "cell_type": "code",
   "execution_count": 139,
   "metadata": {},
   "outputs": [],
   "source": [
    "def evaluate(predictions, targets):\n",
    "    f1 = f1_score(predictions, targets, average='weighted')\n",
    "    return f1"
   ]
  },
  {
   "cell_type": "code",
   "execution_count": 140,
   "metadata": {},
   "outputs": [
    {
     "name": "stdout",
     "output_type": "stream",
     "text": [
      "Starting prediction...\n",
      "49\n",
      "<class 'torch.Tensor'>\n",
      "[1 1 1 ... 1 1 1]\n",
      "<class 'torch.Tensor'>\n",
      "[1 1 1 ... 1 1 1]\n",
      "<class 'torch.Tensor'>\n",
      "[1 1 1 ... 1 1 1]\n",
      "<class 'torch.Tensor'>\n",
      "[1 1 1 ... 1 1 1]\n",
      "<class 'torch.Tensor'>\n",
      "[1 1 1 ... 1 1 1]\n",
      "<class 'torch.Tensor'>\n",
      "[1 1 1 ... 1 1 1]\n",
      "<class 'torch.Tensor'>\n",
      "[1 1 1 ... 1 1 1]\n",
      "<class 'torch.Tensor'>\n",
      "[1 1 1 ... 1 1 1]\n",
      "<class 'torch.Tensor'>\n",
      "[1 1 1 ... 1 1 1]\n",
      "<class 'torch.Tensor'>\n",
      "[1 1 1 ... 1 1 1]\n",
      "<class 'torch.Tensor'>\n",
      "[1 1 1 ... 1 1 1]\n",
      "<class 'torch.Tensor'>\n",
      "[1 1 1 ... 1 1 1]\n",
      "<class 'torch.Tensor'>\n",
      "[1 1 1 ... 1 1 1]\n",
      "<class 'torch.Tensor'>\n",
      "[1 1 1 ... 1 1 1]\n",
      "<class 'torch.Tensor'>\n",
      "[1 1 1 ... 1 1 1]\n",
      "<class 'torch.Tensor'>\n",
      "[1 1 1 ... 1 1 1]\n",
      "<class 'torch.Tensor'>\n",
      "[1 1 1 ... 1 1 1]\n",
      "<class 'torch.Tensor'>\n",
      "[1 1 1 ... 1 1 1]\n",
      "<class 'torch.Tensor'>\n",
      "[1 1 1 ... 1 1 1]\n",
      "<class 'torch.Tensor'>\n",
      "[1 1 1 ... 1 1 1]\n",
      "<class 'torch.Tensor'>\n",
      "[1 1 1 ... 1 1 1]\n",
      "<class 'torch.Tensor'>\n",
      "[1 1 1 ... 1 1 1]\n",
      "<class 'torch.Tensor'>\n",
      "[1 1 1 ... 1 1 1]\n",
      "<class 'torch.Tensor'>\n",
      "[1 1 1 ... 1 1 1]\n",
      "<class 'torch.Tensor'>\n",
      "[1 1 1 ... 1 1 1]\n",
      "<class 'torch.Tensor'>\n",
      "[1 1 1 ... 1 1 1]\n",
      "<class 'torch.Tensor'>\n",
      "[1 1 1 ... 1 1 1]\n",
      "<class 'torch.Tensor'>\n",
      "[1 1 1 ... 1 1 1]\n",
      "<class 'torch.Tensor'>\n",
      "[1 1 1 ... 1 1 1]\n",
      "<class 'torch.Tensor'>\n",
      "[1 1 1 ... 1 1 1]\n",
      "<class 'torch.Tensor'>\n",
      "[1 1 1 ... 1 1 1]\n",
      "<class 'torch.Tensor'>\n",
      "[1 1 1 ... 1 1 1]\n",
      "<class 'torch.Tensor'>\n",
      "[1 1 1 ... 1 1 1]\n",
      "<class 'torch.Tensor'>\n",
      "[1 1 1 ... 1 1 1]\n",
      "<class 'torch.Tensor'>\n",
      "[1 1 1 ... 1 1 1]\n",
      "<class 'torch.Tensor'>\n",
      "[1 1 1 ... 1 1 1]\n",
      "<class 'torch.Tensor'>\n",
      "[1 1 1 ... 1 1 1]\n",
      "<class 'torch.Tensor'>\n",
      "[1 1 1 ... 1 1 1]\n",
      "<class 'torch.Tensor'>\n",
      "[1 1 1 ... 1 1 1]\n",
      "<class 'torch.Tensor'>\n",
      "[1 1 1 ... 1 1 1]\n",
      "<class 'torch.Tensor'>\n",
      "[1 1 1 ... 1 1 1]\n",
      "<class 'torch.Tensor'>\n",
      "[1 1 1 ... 1 1 1]\n",
      "<class 'torch.Tensor'>\n",
      "[1 1 1 ... 1 1 1]\n",
      "<class 'torch.Tensor'>\n",
      "[1 1 1 ... 1 1 1]\n",
      "<class 'torch.Tensor'>\n",
      "[1 1 1 ... 1 1 1]\n",
      "<class 'torch.Tensor'>\n",
      "[1 1 1 ... 1 1 1]\n",
      "<class 'torch.Tensor'>\n",
      "[1 1 1 ... 1 1 1]\n",
      "<class 'torch.Tensor'>\n",
      "[1 1 1 ... 1 1 1]\n",
      "<class 'torch.Tensor'>\n",
      "[1 1 1 ... 1 1 1]\n"
     ]
    }
   ],
   "source": [
    "predictions = predict(loaded_model, test_dataset)"
   ]
  },
  {
   "cell_type": "code",
   "execution_count": 144,
   "metadata": {},
   "outputs": [
    {
     "data": {
      "text/plain": [
       "(16777216,)"
      ]
     },
     "execution_count": 144,
     "metadata": {},
     "output_type": "execute_result"
    }
   ],
   "source": [
    "test_labels.flatten().shape"
   ]
  },
  {
   "cell_type": "code",
   "execution_count": null,
   "metadata": {},
   "outputs": [],
   "source": []
  }
 ],
 "metadata": {
  "kernelspec": {
   "display_name": "CNN",
   "language": "python",
   "name": "python3"
  },
  "language_info": {
   "codemirror_mode": {
    "name": "ipython",
    "version": 3
   },
   "file_extension": ".py",
   "mimetype": "text/x-python",
   "name": "python",
   "nbconvert_exporter": "python",
   "pygments_lexer": "ipython3",
   "version": "3.9.18"
  }
 },
 "nbformat": 4,
 "nbformat_minor": 2
}
