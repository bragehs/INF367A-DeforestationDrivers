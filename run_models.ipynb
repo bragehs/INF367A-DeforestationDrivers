{
 "cells": [
  {
   "cell_type": "code",
   "execution_count": 34,
   "metadata": {},
   "outputs": [],
   "source": [
    "from preprocessing import ProcessData\n",
    "from models import SatelliteDataset\n",
    "import numpy as np\n",
    "from sklearn.metrics import f1_score\n",
    "import torch\n",
    "import satlaspretrain_models\n",
    "from torch.utils.data import DataLoader, Dataset\n",
    "from torch.utils.tensorboard import SummaryWriter\n",
    "import os\n",
    "import tqdm"
   ]
  },
  {
   "cell_type": "code",
   "execution_count": 2,
   "metadata": {},
   "outputs": [],
   "source": [
    "# Define patch size and stride\n",
    "PATCH_SIZE = 256  # Adjust as needed (256, 512, etc.)\n",
    "STRIDE = 128  # Overlapping patches\n",
    "\n",
    "class Sentinel2SegmentationDataset(Dataset):\n",
    "    def __init__(self, images, labels, patch_size=PATCH_SIZE, stride=STRIDE, transform=None):\n",
    "        \"\"\"\n",
    "        images: Tensor or numpy array of shape (N, 12, H, W)\n",
    "        labels: Tensor or numpy array of shape (N, H, W)\n",
    "        patch_size: Size of the patches (default 256)\n",
    "        stride: Stride for patching (default 128 for overlapping)\n",
    "        transform: Optional image transformations\n",
    "        \"\"\"\n",
    "        self.images = images\n",
    "        self.labels = labels\n",
    "        self.patch_size = patch_size\n",
    "        self.stride = stride\n",
    "        self.transform = transform\n",
    "        self.patches = []  # Store (image_patch, label_patch) pairs\n",
    "\n",
    "        self.create_patches()\n",
    "\n",
    "    def create_patches(self):\n",
    "        \"\"\"Extracts patches from the dataset.\"\"\"\n",
    "        N, C, H, W = self.images.shape\n",
    "\n",
    "        for i in range(N):\n",
    "            img = self.images[i]  # Shape (12, H, W)\n",
    "            lbl = self.labels[i]  # Shape (H, W)\n",
    "\n",
    "            for y in range(0, H - self.patch_size + 1, self.stride):\n",
    "                for x in range(0, W - self.patch_size + 1, self.stride):\n",
    "                    img_patch = img[:, y:y + self.patch_size, x:x + self.patch_size]  # (12, 256, 256)\n",
    "                    lbl_patch = lbl[y:y + self.patch_size, x:x + self.patch_size]  # (256, 256)\n",
    "                    \n",
    "                    self.patches.append((img_patch, lbl_patch))\n",
    "\n",
    "    def __len__(self):\n",
    "        return len(self.patches)\n",
    "\n",
    "    def __getitem__(self, idx):\n",
    "        img_patch, lbl_patch = self.patches[idx]\n",
    "\n",
    "        # Apply transformations if any\n",
    "        if self.transform:\n",
    "            img_patch = self.transform(img_patch)\n",
    "\n",
    "        return torch.as_tensor(img_patch, dtype=torch.float32), torch.as_tensor(lbl_patch, dtype=torch.long)\n"
   ]
  },
  {
   "cell_type": "code",
   "execution_count": 3,
   "metadata": {},
   "outputs": [],
   "source": [
    "#test = ProcessData()\n",
    "#test.preprocess()\n",
    "#test.save_preprocessed()"
   ]
  },
  {
   "cell_type": "code",
   "execution_count": 4,
   "metadata": {},
   "outputs": [
    {
     "name": "stdout",
     "output_type": "stream",
     "text": [
      "Loaded preprocessed data from /Users/bragehs/Documents/INF367A-DeforestationDrivers\n"
     ]
    }
   ],
   "source": [
    "test = ProcessData()\n",
    "test.prepared_data, test.labels = test.load_preprocessed_data()\n",
    "test.prepared_data = test.prepared_data[:, :9, :, :]"
   ]
  },
  {
   "cell_type": "code",
   "execution_count": 5,
   "metadata": {},
   "outputs": [
    {
     "data": {
      "text/plain": [
       "(176, 9, 1024, 1024)"
      ]
     },
     "execution_count": 5,
     "metadata": {},
     "output_type": "execute_result"
    }
   ],
   "source": [
    "test.prepared_data.shape"
   ]
  },
  {
   "cell_type": "code",
   "execution_count": 41,
   "metadata": {},
   "outputs": [],
   "source": [
    "train_sample = 10\n",
    "train_data = test.prepared_data[:train_sample]\n",
    "train_labels = test.labels[:train_sample]\n",
    "train_dataset = SatelliteDataset(train_data, train_labels)"
   ]
  },
  {
   "cell_type": "code",
   "execution_count": 7,
   "metadata": {},
   "outputs": [],
   "source": [
    "val_sample = 15\n",
    "val_data = test.prepared_data[train_sample:train_sample + val_sample]\n",
    "val_labels = test.labels[train_sample:train_sample + val_sample]\n",
    "val_dataset = SatelliteDataset(val_data, val_labels)"
   ]
  },
  {
   "cell_type": "code",
   "execution_count": 8,
   "metadata": {},
   "outputs": [],
   "source": [
    "test_sample = 1\n",
    "test_data = test.prepared_data[train_sample:val_sample + train_sample + test_sample]\n",
    "test_labels = test.labels[train_sample:val_sample + train_sample + test_sample]\n",
    "test_dataset = SatelliteDataset(test_data, test_labels)"
   ]
  },
  {
   "cell_type": "code",
   "execution_count": 9,
   "metadata": {},
   "outputs": [],
   "source": [
    "weights_manager = satlaspretrain_models.Weights()"
   ]
  },
  {
   "cell_type": "code",
   "execution_count": 46,
   "metadata": {},
   "outputs": [],
   "source": [
    "# Experiment arguments.\n",
    "device = torch.device('cpu')\n",
    "num_epochs = 20\n",
    "criterion = torch.nn.CrossEntropyLoss()\n",
    "val_step = 1  # evaluate every val_step epochs\n",
    "save_path = os.path.split(os.getcwd())[0] + '/weights/'  # where to save model weights\n",
    "os.makedirs(save_path, exist_ok=True)"
   ]
  },
  {
   "cell_type": "code",
   "execution_count": 47,
   "metadata": {},
   "outputs": [
    {
     "data": {
      "text/plain": [
       "'/Users/bragehs/Documents/weights/'"
      ]
     },
     "execution_count": 47,
     "metadata": {},
     "output_type": "execute_result"
    }
   ],
   "source": [
    "save_path"
   ]
  },
  {
   "cell_type": "code",
   "execution_count": 11,
   "metadata": {},
   "outputs": [],
   "source": [
    "model = weights_manager.get_pretrained_model(\"Sentinel2_SwinT_SI_MS\", fpn=True, head=satlaspretrain_models.Head.SEGMENT, \n",
    "                                                num_categories=5, device='cpu')\n",
    "model = model.to(device)"
   ]
  },
  {
   "cell_type": "code",
   "execution_count": 12,
   "metadata": {},
   "outputs": [],
   "source": [
    "optimizer = torch.optim.Adam(model.parameters(), lr=0.0001)"
   ]
  },
  {
   "cell_type": "code",
   "execution_count": 42,
   "metadata": {},
   "outputs": [
    {
     "name": "stdout",
     "output_type": "stream",
     "text": [
      "Image Patch Shape: torch.Size([8, 9, 256, 256])\n",
      "Label Patch Shape: torch.Size([8, 256, 256])\n"
     ]
    }
   ],
   "source": [
    "train_dataset = Sentinel2SegmentationDataset(train_data, train_labels)\n",
    "val_dataset = Sentinel2SegmentationDataset(val_data, val_labels)\n",
    "train_dataloader = DataLoader(train_dataset, batch_size=8, shuffle=True, num_workers=0)\n",
    "val_dataloader = DataLoader(val_dataset, batch_size=8, shuffle=False, num_workers=0)\n",
    "\n",
    "# Check dataset output\n",
    "for img_patch, lbl_patch in train_dataloader:\n",
    "    print(\"Image Patch Shape:\", img_patch.shape)  # Expected: (8, 12, 256, 256)\n",
    "    print(\"Label Patch Shape:\", lbl_patch.shape)  # Expected: (8, 256, 256)\n",
    "    break"
   ]
  },
  {
   "cell_type": "code",
   "execution_count": 49,
   "metadata": {},
   "outputs": [
    {
     "name": "stdout",
     "output_type": "stream",
     "text": [
      "Starting Epoch... 0\n"
     ]
    },
    {
     "name": "stderr",
     "output_type": "stream",
     "text": [
      "Epoch 0:  15%|█▍        | 9/62 [00:51<05:03,  5.73s/it, batch_loss=0.9025]\n"
     ]
    },
    {
     "ename": "KeyboardInterrupt",
     "evalue": "",
     "output_type": "error",
     "traceback": [
      "\u001b[0;31m---------------------------------------------------------------------------\u001b[0m",
      "\u001b[0;31mKeyboardInterrupt\u001b[0m                         Traceback (most recent call last)",
      "Cell \u001b[0;32mIn[49], line 19\u001b[0m\n\u001b[1;32m     16\u001b[0m epoch_loss \u001b[38;5;241m+\u001b[39m\u001b[38;5;241m=\u001b[39m loss\u001b[38;5;241m.\u001b[39mitem()\n\u001b[1;32m     17\u001b[0m num_batches \u001b[38;5;241m+\u001b[39m\u001b[38;5;241m=\u001b[39m \u001b[38;5;241m1\u001b[39m\n\u001b[0;32m---> 19\u001b[0m \u001b[43mloss\u001b[49m\u001b[38;5;241;43m.\u001b[39;49m\u001b[43mbackward\u001b[49m\u001b[43m(\u001b[49m\u001b[43m)\u001b[49m\n\u001b[1;32m     20\u001b[0m optimizer\u001b[38;5;241m.\u001b[39mstep()\n\u001b[1;32m     21\u001b[0m optimizer\u001b[38;5;241m.\u001b[39mzero_grad()\n",
      "File \u001b[0;32m/opt/anaconda3/envs/CNN/lib/python3.9/site-packages/torch/_tensor.py:626\u001b[0m, in \u001b[0;36mTensor.backward\u001b[0;34m(self, gradient, retain_graph, create_graph, inputs)\u001b[0m\n\u001b[1;32m    616\u001b[0m \u001b[38;5;28;01mif\u001b[39;00m has_torch_function_unary(\u001b[38;5;28mself\u001b[39m):\n\u001b[1;32m    617\u001b[0m     \u001b[38;5;28;01mreturn\u001b[39;00m handle_torch_function(\n\u001b[1;32m    618\u001b[0m         Tensor\u001b[38;5;241m.\u001b[39mbackward,\n\u001b[1;32m    619\u001b[0m         (\u001b[38;5;28mself\u001b[39m,),\n\u001b[0;32m   (...)\u001b[0m\n\u001b[1;32m    624\u001b[0m         inputs\u001b[38;5;241m=\u001b[39minputs,\n\u001b[1;32m    625\u001b[0m     )\n\u001b[0;32m--> 626\u001b[0m \u001b[43mtorch\u001b[49m\u001b[38;5;241;43m.\u001b[39;49m\u001b[43mautograd\u001b[49m\u001b[38;5;241;43m.\u001b[39;49m\u001b[43mbackward\u001b[49m\u001b[43m(\u001b[49m\n\u001b[1;32m    627\u001b[0m \u001b[43m    \u001b[49m\u001b[38;5;28;43mself\u001b[39;49m\u001b[43m,\u001b[49m\u001b[43m \u001b[49m\u001b[43mgradient\u001b[49m\u001b[43m,\u001b[49m\u001b[43m \u001b[49m\u001b[43mretain_graph\u001b[49m\u001b[43m,\u001b[49m\u001b[43m \u001b[49m\u001b[43mcreate_graph\u001b[49m\u001b[43m,\u001b[49m\u001b[43m \u001b[49m\u001b[43minputs\u001b[49m\u001b[38;5;241;43m=\u001b[39;49m\u001b[43minputs\u001b[49m\n\u001b[1;32m    628\u001b[0m \u001b[43m\u001b[49m\u001b[43m)\u001b[49m\n",
      "File \u001b[0;32m/opt/anaconda3/envs/CNN/lib/python3.9/site-packages/torch/autograd/__init__.py:347\u001b[0m, in \u001b[0;36mbackward\u001b[0;34m(tensors, grad_tensors, retain_graph, create_graph, grad_variables, inputs)\u001b[0m\n\u001b[1;32m    342\u001b[0m     retain_graph \u001b[38;5;241m=\u001b[39m create_graph\n\u001b[1;32m    344\u001b[0m \u001b[38;5;66;03m# The reason we repeat the same comment below is that\u001b[39;00m\n\u001b[1;32m    345\u001b[0m \u001b[38;5;66;03m# some Python versions print out the first line of a multi-line function\u001b[39;00m\n\u001b[1;32m    346\u001b[0m \u001b[38;5;66;03m# calls in the traceback and some print out the last line\u001b[39;00m\n\u001b[0;32m--> 347\u001b[0m \u001b[43m_engine_run_backward\u001b[49m\u001b[43m(\u001b[49m\n\u001b[1;32m    348\u001b[0m \u001b[43m    \u001b[49m\u001b[43mtensors\u001b[49m\u001b[43m,\u001b[49m\n\u001b[1;32m    349\u001b[0m \u001b[43m    \u001b[49m\u001b[43mgrad_tensors_\u001b[49m\u001b[43m,\u001b[49m\n\u001b[1;32m    350\u001b[0m \u001b[43m    \u001b[49m\u001b[43mretain_graph\u001b[49m\u001b[43m,\u001b[49m\n\u001b[1;32m    351\u001b[0m \u001b[43m    \u001b[49m\u001b[43mcreate_graph\u001b[49m\u001b[43m,\u001b[49m\n\u001b[1;32m    352\u001b[0m \u001b[43m    \u001b[49m\u001b[43minputs\u001b[49m\u001b[43m,\u001b[49m\n\u001b[1;32m    353\u001b[0m \u001b[43m    \u001b[49m\u001b[43mallow_unreachable\u001b[49m\u001b[38;5;241;43m=\u001b[39;49m\u001b[38;5;28;43;01mTrue\u001b[39;49;00m\u001b[43m,\u001b[49m\n\u001b[1;32m    354\u001b[0m \u001b[43m    \u001b[49m\u001b[43maccumulate_grad\u001b[49m\u001b[38;5;241;43m=\u001b[39;49m\u001b[38;5;28;43;01mTrue\u001b[39;49;00m\u001b[43m,\u001b[49m\n\u001b[1;32m    355\u001b[0m \u001b[43m\u001b[49m\u001b[43m)\u001b[49m\n",
      "File \u001b[0;32m/opt/anaconda3/envs/CNN/lib/python3.9/site-packages/torch/autograd/graph.py:823\u001b[0m, in \u001b[0;36m_engine_run_backward\u001b[0;34m(t_outputs, *args, **kwargs)\u001b[0m\n\u001b[1;32m    821\u001b[0m     unregister_hooks \u001b[38;5;241m=\u001b[39m _register_logging_hooks_on_whole_graph(t_outputs)\n\u001b[1;32m    822\u001b[0m \u001b[38;5;28;01mtry\u001b[39;00m:\n\u001b[0;32m--> 823\u001b[0m     \u001b[38;5;28;01mreturn\u001b[39;00m \u001b[43mVariable\u001b[49m\u001b[38;5;241;43m.\u001b[39;49m\u001b[43m_execution_engine\u001b[49m\u001b[38;5;241;43m.\u001b[39;49m\u001b[43mrun_backward\u001b[49m\u001b[43m(\u001b[49m\u001b[43m  \u001b[49m\u001b[38;5;66;43;03m# Calls into the C++ engine to run the backward pass\u001b[39;49;00m\n\u001b[1;32m    824\u001b[0m \u001b[43m        \u001b[49m\u001b[43mt_outputs\u001b[49m\u001b[43m,\u001b[49m\u001b[43m \u001b[49m\u001b[38;5;241;43m*\u001b[39;49m\u001b[43margs\u001b[49m\u001b[43m,\u001b[49m\u001b[43m \u001b[49m\u001b[38;5;241;43m*\u001b[39;49m\u001b[38;5;241;43m*\u001b[39;49m\u001b[43mkwargs\u001b[49m\n\u001b[1;32m    825\u001b[0m \u001b[43m    \u001b[49m\u001b[43m)\u001b[49m  \u001b[38;5;66;03m# Calls into the C++ engine to run the backward pass\u001b[39;00m\n\u001b[1;32m    826\u001b[0m \u001b[38;5;28;01mfinally\u001b[39;00m:\n\u001b[1;32m    827\u001b[0m     \u001b[38;5;28;01mif\u001b[39;00m attach_logging_hooks:\n",
      "\u001b[0;31mKeyboardInterrupt\u001b[0m: "
     ]
    }
   ],
   "source": [
    "# Training loop.\n",
    "for epoch in range(num_epochs):\n",
    "    model.train()\n",
    "    print(f\"Starting Epoch... {epoch}\")\n",
    "    epoch_loss = 0\n",
    "    num_batches = 0\n",
    "    \n",
    "    # Progress bar for each epoch\n",
    "    progress_bar = tqdm.tqdm(train_dataloader, desc=f'Epoch {epoch}')\n",
    "    \n",
    "    for data, target in progress_bar:\n",
    "        data = data.to(device)\n",
    "        target = target.to(device)\n",
    "        \n",
    "        output, loss = model(data, target)\n",
    "        epoch_loss += loss.item()\n",
    "        num_batches += 1\n",
    "        \n",
    "        loss.backward()\n",
    "        optimizer.step()\n",
    "        optimizer.zero_grad()\n",
    "        \n",
    "        # Update progress bar\n",
    "        progress_bar.set_postfix({'batch_loss': f'{loss.item():.4f}'})\n",
    "    \n",
    "    # Calculate and log average epoch loss\n",
    "    avg_epoch_loss = epoch_loss / num_batches\n",
    "    writer.add_scalar('Training/Loss', avg_epoch_loss, epoch)\n",
    "    print(f\"Epoch {epoch} Average Loss = {avg_epoch_loss:.4f}\")\n",
    "\n",
    "    # Validation.\n",
    "    if epoch % val_step == 0:\n",
    "        model.eval()\n",
    "        val_predictions = []\n",
    "        val_targets = []\n",
    "\n",
    "        for val_data, val_target in val_dataloader:\n",
    "            val_data = val_data.to(device)\n",
    "            val_target = val_target.to(device)\n",
    "\n",
    "            val_output, val_loss = model(val_data, val_target)\n",
    "\n",
    "            pred = np.argmax(val_output.cpu().detach().numpy(), axis=1).flatten()\n",
    "            true = ((val_target.cpu().detach().numpy()).astype(int)).flatten()\n",
    "            \n",
    "            val_predictions.extend(pred)\n",
    "            val_targets.extend(true)\n",
    "\n",
    "        val_f1 = f1_score(val_predictions, val_targets, average='weighted')\n",
    "        print(\"Validation F1 score = \", val_f1)\n",
    "\n",
    "        # Save the model checkpoint at the end of each epoch.\n",
    "        torch.save(model.state_dict(), save_path + str(epoch) + '_model_weights.pth')"
   ]
  },
  {
   "cell_type": "code",
   "execution_count": null,
   "metadata": {},
   "outputs": [],
   "source": []
  }
 ],
 "metadata": {
  "kernelspec": {
   "display_name": "CNN",
   "language": "python",
   "name": "python3"
  },
  "language_info": {
   "codemirror_mode": {
    "name": "ipython",
    "version": 3
   },
   "file_extension": ".py",
   "mimetype": "text/x-python",
   "name": "python",
   "nbconvert_exporter": "python",
   "pygments_lexer": "ipython3",
   "version": "3.9.18"
  }
 },
 "nbformat": 4,
 "nbformat_minor": 2
}
