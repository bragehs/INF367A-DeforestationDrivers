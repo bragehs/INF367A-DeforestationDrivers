{
 "cells": [
  {
   "cell_type": "code",
   "execution_count": 60,
   "metadata": {},
   "outputs": [],
   "source": [
    "from preprocessing import ProcessData\n",
    "from models import SatelliteDataset\n",
    "import numpy as np\n",
    "from sklearn.metrics import f1_score\n",
    "import torch\n",
    "import satlaspretrain_models\n",
    "from torch.utils.data import DataLoader, Dataset\n",
    "import os"
   ]
  },
  {
   "cell_type": "code",
   "execution_count": 55,
   "metadata": {},
   "outputs": [],
   "source": [
    "# Define patch size and stride\n",
    "PATCH_SIZE = 256  # Adjust as needed (256, 512, etc.)\n",
    "STRIDE = 128  # Overlapping patches\n",
    "\n",
    "class Sentinel2SegmentationDataset(Dataset):\n",
    "    def __init__(self, images, labels, patch_size=PATCH_SIZE, stride=STRIDE, transform=None):\n",
    "        \"\"\"\n",
    "        images: Tensor or numpy array of shape (N, 12, H, W)\n",
    "        labels: Tensor or numpy array of shape (N, H, W)\n",
    "        patch_size: Size of the patches (default 256)\n",
    "        stride: Stride for patching (default 128 for overlapping)\n",
    "        transform: Optional image transformations\n",
    "        \"\"\"\n",
    "        self.images = images\n",
    "        self.labels = labels\n",
    "        self.patch_size = patch_size\n",
    "        self.stride = stride\n",
    "        self.transform = transform\n",
    "        self.patches = []  # Store (image_patch, label_patch) pairs\n",
    "\n",
    "        self.create_patches()\n",
    "\n",
    "    def create_patches(self):\n",
    "        \"\"\"Extracts patches from the dataset.\"\"\"\n",
    "        N, C, H, W = self.images.shape\n",
    "\n",
    "        for i in range(N):\n",
    "            img = self.images[i]  # Shape (12, H, W)\n",
    "            lbl = self.labels[i]  # Shape (H, W)\n",
    "\n",
    "            for y in range(0, H - self.patch_size + 1, self.stride):\n",
    "                for x in range(0, W - self.patch_size + 1, self.stride):\n",
    "                    img_patch = img[:, y:y + self.patch_size, x:x + self.patch_size]  # (12, 256, 256)\n",
    "                    lbl_patch = lbl[y:y + self.patch_size, x:x + self.patch_size]  # (256, 256)\n",
    "                    \n",
    "                    self.patches.append((img_patch, lbl_patch))\n",
    "\n",
    "    def __len__(self):\n",
    "        return len(self.patches)\n",
    "\n",
    "    def __getitem__(self, idx):\n",
    "        img_patch, lbl_patch = self.patches[idx]\n",
    "\n",
    "        # Apply transformations if any\n",
    "        if self.transform:\n",
    "            img_patch = self.transform(img_patch)\n",
    "\n",
    "        return torch.as_tensor(img_patch, dtype=torch.float32), torch.as_tensor(lbl_patch, dtype=torch.long)\n"
   ]
  },
  {
   "cell_type": "code",
   "execution_count": 2,
   "metadata": {},
   "outputs": [],
   "source": [
    "#test = ProcessData()\n",
    "#test.preprocess()\n",
    "#test.save_preprocessed()"
   ]
  },
  {
   "cell_type": "code",
   "execution_count": 40,
   "metadata": {},
   "outputs": [
    {
     "name": "stdout",
     "output_type": "stream",
     "text": [
      "Loaded preprocessed data from /Users/bragehs/Documents/INF367A-DeforestationDrivers\n"
     ]
    }
   ],
   "source": [
    "test = ProcessData()\n",
    "test.prepared_data, test.labels = test.load_preprocessed_data()\n",
    "test.prepared_data = test.prepared_data[:, :9, :, :]"
   ]
  },
  {
   "cell_type": "code",
   "execution_count": 41,
   "metadata": {},
   "outputs": [
    {
     "data": {
      "text/plain": [
       "(176, 9, 1024, 1024)"
      ]
     },
     "execution_count": 41,
     "metadata": {},
     "output_type": "execute_result"
    }
   ],
   "source": [
    "test.prepared_data.shape"
   ]
  },
  {
   "cell_type": "code",
   "execution_count": 42,
   "metadata": {},
   "outputs": [],
   "source": [
    "train_sample = 5\n",
    "train_data = test.prepared_data[:train_sample]\n",
    "train_labels = test.labels[:train_sample]\n",
    "train_dataset = SatelliteDataset(train_data, train_labels)"
   ]
  },
  {
   "cell_type": "code",
   "execution_count": 43,
   "metadata": {},
   "outputs": [],
   "source": [
    "val_sample = 2\n",
    "val_data = test.prepared_data[train_sample:train_sample + val_sample]\n",
    "val_labels = test.labels[train_sample:train_sample + val_sample]\n",
    "val_dataset = SatelliteDataset(val_data, val_labels)"
   ]
  },
  {
   "cell_type": "code",
   "execution_count": 44,
   "metadata": {},
   "outputs": [],
   "source": [
    "test_sample = 1\n",
    "test_data = test.prepared_data[train_sample:val_sample + train_sample + test_sample]\n",
    "test_labels = test.labels[train_sample:val_sample + train_sample + test_sample]\n",
    "test_dataset = SatelliteDataset(test_data, test_labels)"
   ]
  },
  {
   "cell_type": "code",
   "execution_count": 45,
   "metadata": {},
   "outputs": [],
   "source": [
    "weights_manager = satlaspretrain_models.Weights()"
   ]
  },
  {
   "cell_type": "code",
   "execution_count": 46,
   "metadata": {},
   "outputs": [],
   "source": [
    "# Experiment arguments.\n",
    "device = torch.device('cpu')\n",
    "num_epochs = 1\n",
    "criterion = torch.nn.CrossEntropyLoss()\n",
    "val_step = 1  # evaluate every val_step epochs\n",
    "save_path = 'weights/'  # where to save model weights\n",
    "os.makedirs(save_path, exist_ok=True)"
   ]
  },
  {
   "cell_type": "code",
   "execution_count": 47,
   "metadata": {},
   "outputs": [],
   "source": [
    "model = weights_manager.get_pretrained_model(\"Sentinel2_SwinT_SI_MS\", fpn=True, head=satlaspretrain_models.Head.SEGMENT, \n",
    "                                                num_categories=5, device='cpu')\n",
    "model = model.to(device)"
   ]
  },
  {
   "cell_type": "code",
   "execution_count": 48,
   "metadata": {},
   "outputs": [],
   "source": [
    "optimizer = torch.optim.Adam(model.parameters(), lr=0.0001)"
   ]
  },
  {
   "cell_type": "code",
   "execution_count": 56,
   "metadata": {},
   "outputs": [
    {
     "name": "stdout",
     "output_type": "stream",
     "text": [
      "Image Patch Shape: torch.Size([2, 9, 256, 256])\n",
      "Label Patch Shape: torch.Size([2, 256, 256])\n"
     ]
    }
   ],
   "source": [
    "train_dataset = Sentinel2SegmentationDataset(train_data, train_labels)\n",
    "val_dataset = Sentinel2SegmentationDataset(val_data, val_labels)\n",
    "train_dataloader = DataLoader(train_dataset, batch_size=8, shuffle=True, num_workers=0)\n",
    "val_dataloader = DataLoader(val_dataset, batch_size=8, shuffle=False, num_workers=0)\n",
    "\n",
    "# Check dataset output\n",
    "for img_patch, lbl_patch in val_dataloader:\n",
    "    print(\"Image Patch Shape:\", img_patch.shape)  # Expected: (8, 12, 256, 256)\n",
    "    print(\"Label Patch Shape:\", lbl_patch.shape)  # Expected: (8, 256, 256)\n",
    "    break"
   ]
  },
  {
   "cell_type": "code",
   "execution_count": 80,
   "metadata": {},
   "outputs": [
    {
     "name": "stdout",
     "output_type": "stream",
     "text": [
      "Starting Epoch... 0\n",
      "Train Loss =  tensor(0.8449, grad_fn=<MeanBackward0>)\n",
      "Validation F1 score =  0.5500531786614055\n"
     ]
    }
   ],
   "source": [
    "# Training loop.\n",
    "for epoch in range(num_epochs):\n",
    "    print(\"Starting Epoch...\", epoch)\n",
    "\n",
    "    for data, target in train_dataloader:\n",
    "        data = data.to(device)\n",
    "        target = target.to(device)\n",
    "\n",
    "        output, loss = model(data, target)\n",
    "        print(\"Train Loss = \", loss)\n",
    "\n",
    "        loss.backward()\n",
    "        optimizer.step()\n",
    "        optimizer.zero_grad()\n",
    "        break\n",
    "\n",
    "    # Validation.\n",
    "    if epoch % val_step == 0:\n",
    "        model.eval()\n",
    "        val_predictions = []\n",
    "        val_targets = []\n",
    "\n",
    "        for val_data, val_target in val_dataloader:\n",
    "            val_data = val_data.to(device)\n",
    "            val_target = val_target.to(device)\n",
    "\n",
    "            val_output, val_loss = model(val_data, val_target)\n",
    "\n",
    "            pred = np.argmax(val_output.cpu().detach().numpy(), axis=1).flatten()\n",
    "            true = ((val_target.cpu().detach().numpy()).astype(int)).flatten()\n",
    "        #print(val_predictions)\n",
    "\n",
    "            val_f1 = f1_score(true, pred, average='weighted')\n",
    "            print(\"Validation F1 score = \", val_f1)\n",
    "\n",
    "        # Save the model checkpoint at the end of each epoch.\n",
    "        torch.save(model.state_dict(), save_path + str(epoch) + '_model_weights.pth')"
   ]
  },
  {
   "cell_type": "code",
   "execution_count": null,
   "metadata": {},
   "outputs": [],
   "source": []
  }
 ],
 "metadata": {
  "kernelspec": {
   "display_name": "CNN",
   "language": "python",
   "name": "python3"
  },
  "language_info": {
   "codemirror_mode": {
    "name": "ipython",
    "version": 3
   },
   "file_extension": ".py",
   "mimetype": "text/x-python",
   "name": "python",
   "nbconvert_exporter": "python",
   "pygments_lexer": "ipython3",
   "version": "3.9.18"
  }
 },
 "nbformat": 4,
 "nbformat_minor": 2
}
