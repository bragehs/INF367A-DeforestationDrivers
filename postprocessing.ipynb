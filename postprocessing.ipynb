{
 "cells": [
  {
   "cell_type": "code",
   "execution_count": 2,
   "metadata": {},
   "outputs": [],
   "source": [
    "#TODO\n",
    "#1. Add the 64*64 outputs to one image.\n",
    "#2. For every pixel, convert it into the most probable one.Maybe depend on neighbours??\n",
    "# Could be multiple overlaps, find a way to handle that.\n",
    "#3. Convert every pixel to correct polygon json format"
   ]
  },
  {
   "cell_type": "code",
   "execution_count": 9,
   "metadata": {},
   "outputs": [],
   "source": [
    "import numpy as np\n",
    "import cv2\n",
    "import json\n",
    "import satlaspretrain_models"
   ]
  },
  {
   "cell_type": "code",
   "execution_count": 4,
   "metadata": {},
   "outputs": [],
   "source": [
    "def post_process_optimized(outputs, gamma=0.5):\n",
    "    empty_img = np.zeros((1024, 1024, 5))\n",
    "    processed_img = np.zeros((1024, 1024), dtype=int)\n",
    "    \n",
    "    for x, y, probs in outputs:\n",
    "        empty_img[x:x+256, y:y+256] += np.array(probs)\n",
    "    \n",
    "    padded = np.pad(empty_img, ((1,1), (1,1), (0,0)))\n",
    "    neighbors = gamma * (padded[:-2, 1:-1] + padded[2:, 1:-1] + \n",
    "                        padded[1:-1, :-2] + padded[1:-1, 2:])\n",
    "    \n",
    "    processed_img = np.argmax(empty_img + neighbors, axis=2)\n",
    "    return processed_img\n",
    "\n",
    "def test_post_process_optimized():\n",
    "    positions = np.mgrid[0:1024:256, 0:1024:256].reshape(2, -1).T\n",
    "    \n",
    "    probs = np.random.dirichlet(np.ones(5)*2, size=positions.shape[0])\n",
    "    probs[:,0] = np.clip(probs[:,0], 0.3, 1.0)\n",
    "    probs = probs / probs.sum(axis=1, keepdims=True)\n",
    "    \n",
    "    outputs = [(x, y, p.tolist()) for (x, y), p in zip(positions, probs)]\n",
    "    return post_process_optimized(outputs)"
   ]
  },
  {
   "cell_type": "code",
   "execution_count": 15,
   "metadata": {},
   "outputs": [
    {
     "data": {
      "text/plain": [
       "array([[2, 2, 2, ..., 2, 2, 2],\n",
       "       [2, 2, 2, ..., 2, 2, 2],\n",
       "       [2, 2, 2, ..., 2, 2, 2],\n",
       "       ...,\n",
       "       [3, 3, 3, ..., 4, 4, 4],\n",
       "       [3, 3, 3, ..., 4, 4, 4],\n",
       "       [3, 3, 3, ..., 4, 4, 4]])"
      ]
     },
     "execution_count": 15,
     "metadata": {},
     "output_type": "execute_result"
    }
   ],
   "source": [
    "test_post_process_optimized()"
   ]
  },
  {
   "cell_type": "markdown",
   "metadata": {},
   "source": [
    "## torch and cuda version"
   ]
  },
  {
   "cell_type": "code",
   "execution_count": 5,
   "metadata": {},
   "outputs": [],
   "source": [
    "import torch\n",
    "\n",
    "def post_process_torch(outputs, gamma=0.5):\n",
    "    device = torch.device(\"cuda\")  # Assuming model outputs are on CUDA\n",
    "    empty_img = torch.zeros((1024, 1024, 5), device=device)\n",
    "    \n",
    "    # Convert outputs to tensor once\n",
    "    coords = torch.tensor([[x,y] for x,y,_ in outputs], device=device)\n",
    "    probs = torch.tensor([p for _,_,p in outputs], device=device)\n",
    "    \n",
    "    # Batch assignment\n",
    "    for coord, prob in zip(coords, probs):\n",
    "        empty_img[coord[0]:coord[0]+64, coord[1]:coord[1]+64] += prob\n",
    "    \n",
    "    padded = torch.nn.functional.pad(empty_img, (0,0,1,1,1,1))\n",
    "    neighbors = gamma * (padded[:-2, 1:-1] + padded[2:, 1:-1] + \n",
    "                        padded[1:-1, :-2] + padded[1:-1, 2:])\n",
    "    \n",
    "    return torch.argmax(empty_img + neighbors, dim=2)  # Keep on GPU if needed"
   ]
  },
  {
   "cell_type": "markdown",
   "metadata": {},
   "source": [
    "## From pixel img to polygon"
   ]
  },
  {
   "cell_type": "code",
   "execution_count": 6,
   "metadata": {},
   "outputs": [],
   "source": [
    "\n",
    "# Example: A random 1024x1024 tensor with values 0-4\n",
    "def converter(tensor):\n",
    "# Dictionary to store polygons for each unique value\n",
    "    polygons = {}\n",
    "\n",
    "    for val in range(5):  # Iterate over unique values (0-4)\n",
    "        mask = (tensor == val).astype(np.uint8)  # Create binary mask for the value\n",
    "\n",
    "        # Find contours (polygons) of connected components\n",
    "        contours, _ = cv2.findContours(mask, cv2.RETR_EXTERNAL, cv2.CHAIN_APPROX_SIMPLE)\n",
    "\n",
    "        # Convert contours to a list of polygons\n",
    "        polygons[val] = [c.reshape(-1, 2).tolist() for c in contours]\n",
    "    return polygons\n",
    "test=converter(test_post_process_optimized())\n",
    "\n",
    "\n",
    "def write_json(polygons, filename:str):\n",
    "    #Function that takes list of polygons and writes them to a json file.\n",
    "    #The list of polygons is a list of lists of polygons, where each polygon is a list of points.\n",
    "    # Dictionary to map unique values to class names\n",
    "    numper_2_class={1:\"plantation\",2:\"grassland_shrubland\",3:\"mining\",4:\"logging\"}\n",
    "    with open(f\"{filename}.json\", \"a\") as file:\n",
    "        images_overview={\"images\":[]}\n",
    "        # Iterate over images in polygons\n",
    "        for i in range(len(polygons)):\n",
    "\n",
    "            curr={\"file_name\":f\"evaluation_{i}.tif\",\"annotations\":[]}\n",
    "            #Iterate over types of polygons in image\n",
    "            for j in range(1,len(polygons[i])):\n",
    "                # Convert polygons to list of coordinates\n",
    "\n",
    "                for k in range(len(polygons[i][j])):\n",
    "                    listed_polygons=[]\n",
    "\n",
    "                    for p in range(len(polygons[i][j][k])):\n",
    "                        listed_polygons.append(polygons[i][j][k][p][0])\n",
    "                        listed_polygons.append(polygons[i][j][k][p][1])\n",
    "                    curr[\"annotations\"].append({\"class\":numper_2_class[j],\"segmentation\":listed_polygons})\n",
    "            images_overview[\"images\"].append(curr)\n",
    "        file.write(json.dumps(images_overview, ensure_ascii=False, indent=4))\n",
    "write_json([test],\"test\")\n",
    "# Now, polygons[val] contains a list of polygons for each unique value.\n"
   ]
  },
  {
   "cell_type": "code",
   "execution_count": 16,
   "metadata": {},
   "outputs": [],
   "source": []
  },
  {
   "cell_type": "code",
   "execution_count": null,
   "metadata": {},
   "outputs": [],
   "source": []
  }
 ],
 "metadata": {
  "kernelspec": {
   "display_name": "INF265",
   "language": "python",
   "name": "python3"
  },
  "language_info": {
   "codemirror_mode": {
    "name": "ipython",
    "version": 3
   },
   "file_extension": ".py",
   "mimetype": "text/x-python",
   "name": "python",
   "nbconvert_exporter": "python",
   "pygments_lexer": "ipython3",
   "version": "3.12.8"
  }
 },
 "nbformat": 4,
 "nbformat_minor": 2
}
