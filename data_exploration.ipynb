{
 "cells": [
  {
   "cell_type": "code",
   "execution_count": 1,
   "metadata": {},
   "outputs": [],
   "source": [
    "from preprocessing import ProcessData\n",
    "from models import SatelliteSegmentation\n",
    "import numpy as np\n",
    "from sklearn.metrics import accuracy_score\n",
    "import torch"
   ]
  },
  {
   "cell_type": "code",
   "execution_count": 2,
   "metadata": {},
   "outputs": [
    {
     "name": "stdout",
     "output_type": "stream",
     "text": [
      "Processing train_0.tif\n",
      "Processing train_1.tif\n",
      "Processing train_2.tif\n",
      "Processing train_3.tif\n",
      "Processing train_4.tif\n",
      "Processing train_5.tif\n",
      "Processing train_6.tif\n",
      "Processing train_7.tif\n",
      "Processing train_8.tif\n",
      "Processing train_9.tif\n",
      "Processing train_10.tif\n",
      "Processing train_11.tif\n",
      "Processing train_12.tif\n",
      "Processing train_13.tif\n",
      "Processing train_14.tif\n",
      "Processing train_15.tif\n",
      "Processing train_16.tif\n",
      "Processing train_17.tif\n",
      "Processing train_18.tif\n",
      "Processing train_19.tif\n",
      "Processing train_20.tif\n",
      "Processing train_21.tif\n",
      "Processing train_22.tif\n",
      "Processing train_23.tif\n",
      "Processing train_24.tif\n",
      "Processing train_25.tif\n",
      "Processing train_26.tif\n",
      "Processing train_27.tif\n",
      "Processing train_28.tif\n",
      "Processing train_29.tif\n",
      "Processing train_30.tif\n",
      "Processing train_31.tif\n",
      "Processing train_32.tif\n",
      "Processing train_33.tif\n",
      "Processing train_34.tif\n",
      "Processing train_35.tif\n",
      "Processing train_36.tif\n",
      "Processing train_37.tif\n",
      "Processing train_38.tif\n",
      "Processing train_39.tif\n",
      "Processing train_40.tif\n",
      "Processing train_41.tif\n",
      "Processing train_42.tif\n",
      "Processing train_43.tif\n",
      "Processing train_44.tif\n",
      "Processing train_45.tif\n",
      "Processing train_46.tif\n",
      "Processing train_47.tif\n",
      "Processing train_48.tif\n",
      "Processing train_49.tif\n",
      "Processing train_50.tif\n",
      "Processing train_51.tif\n",
      "Processing train_52.tif\n",
      "Processing train_53.tif\n",
      "Processing train_54.tif\n",
      "Processing train_55.tif\n",
      "Processing train_56.tif\n",
      "Processing train_57.tif\n",
      "Processing train_58.tif\n",
      "Processing train_59.tif\n",
      "Processing train_60.tif\n",
      "Processing train_61.tif\n",
      "Processing train_62.tif\n",
      "Processing train_63.tif\n",
      "Processing train_64.tif\n",
      "Processing train_65.tif\n",
      "Processing train_66.tif\n",
      "Processing train_67.tif\n",
      "Processing train_68.tif\n",
      "Processing train_69.tif\n",
      "Processing train_70.tif\n",
      "Processing train_71.tif\n",
      "Processing train_72.tif\n",
      "Processing train_73.tif\n",
      "Processing train_74.tif\n",
      "Processing train_75.tif\n",
      "Processing train_76.tif\n",
      "Processing train_77.tif\n",
      "Processing train_78.tif\n",
      "Processing train_79.tif\n",
      "Processing train_80.tif\n",
      "Processing train_81.tif\n",
      "Processing train_82.tif\n",
      "Processing train_83.tif\n",
      "Processing train_84.tif\n",
      "Processing train_85.tif\n",
      "Processing train_86.tif\n",
      "Processing train_87.tif\n",
      "Processing train_88.tif\n",
      "Processing train_89.tif\n",
      "Processing train_90.tif\n",
      "Processing train_91.tif\n",
      "Processing train_92.tif\n",
      "Processing train_93.tif\n",
      "Processing train_94.tif\n",
      "Processing train_95.tif\n",
      "Processing train_96.tif\n",
      "Processing train_97.tif\n",
      "Processing train_98.tif\n",
      "Processing train_99.tif\n",
      "Processing train_100.tif\n",
      "Processing train_101.tif\n",
      "Processing train_102.tif\n",
      "Processing train_103.tif\n",
      "Processing train_104.tif\n",
      "Processing train_105.tif\n",
      "Processing train_106.tif\n",
      "Processing train_107.tif\n",
      "Processing train_108.tif\n",
      "Processing train_109.tif\n",
      "Processing train_110.tif\n",
      "Processing train_111.tif\n",
      "Processing train_112.tif\n",
      "Processing train_113.tif\n",
      "Processing train_114.tif\n",
      "Processing train_115.tif\n",
      "Processing train_116.tif\n",
      "Processing train_117.tif\n",
      "Processing train_118.tif\n",
      "Processing train_119.tif\n",
      "Processing train_120.tif\n",
      "Processing train_121.tif\n",
      "Processing train_122.tif\n",
      "Processing train_123.tif\n",
      "Processing train_124.tif\n",
      "Processing train_125.tif\n",
      "Processing train_126.tif\n",
      "Processing train_127.tif\n",
      "Processing train_128.tif\n",
      "Processing train_129.tif\n",
      "Processing train_130.tif\n",
      "Processing train_131.tif\n",
      "Processing train_132.tif\n",
      "Processing train_133.tif\n",
      "Processing train_134.tif\n",
      "Processing train_135.tif\n",
      "Processing train_136.tif\n",
      "Processing train_137.tif\n",
      "Processing train_138.tif\n",
      "Processing train_139.tif\n",
      "Processing train_140.tif\n",
      "Processing train_141.tif\n",
      "Processing train_142.tif\n",
      "Processing train_143.tif\n",
      "Processing train_144.tif\n",
      "Processing train_145.tif\n",
      "Processing train_146.tif\n",
      "Processing train_147.tif\n",
      "Processing train_148.tif\n",
      "Processing train_149.tif\n",
      "Processing train_150.tif\n",
      "Processing train_151.tif\n",
      "Processing train_152.tif\n",
      "Processing train_153.tif\n",
      "Processing train_154.tif\n",
      "Processing train_155.tif\n",
      "Processing train_156.tif\n",
      "Processing train_157.tif\n",
      "Processing train_158.tif\n",
      "Processing train_159.tif\n",
      "Processing train_160.tif\n",
      "Processing train_161.tif\n",
      "Processing train_162.tif\n",
      "Processing train_163.tif\n",
      "Processing train_164.tif\n",
      "Processing train_165.tif\n",
      "Processing train_166.tif\n",
      "Processing train_167.tif\n",
      "Processing train_168.tif\n",
      "Processing train_169.tif\n",
      "Processing train_170.tif\n",
      "Processing train_171.tif\n",
      "Processing train_172.tif\n",
      "Processing train_173.tif\n",
      "Processing train_174.tif\n",
      "Processing train_175.tif\n",
      "NaN values filled and pixels labeled\n",
      "self.prepared_data.shape: (176, 12, 1024, 1024)\n",
      "self.labels.shape: (176, 1024, 1024)\n",
      "Preprocessed data saved to /Users/bragehs/Documents/train_images/prepared_data.npy\n",
      "Labels saved to /Users/bragehs/Documents/train_images/labels.npy\n"
     ]
    }
   ],
   "source": [
    "#test = ProcessData()\n",
    "#test.preprocess()\n",
    "#test.save_preprocessed()"
   ]
  },
  {
   "cell_type": "code",
   "execution_count": 3,
   "metadata": {},
   "outputs": [
    {
     "name": "stdout",
     "output_type": "stream",
     "text": [
      "Loaded preprocessed data from /Users/bragehs/Documents/INF367A-DeforestationDrivers\n"
     ]
    }
   ],
   "source": [
    "test = ProcessData()\n",
    "test.prepared_data, test.labels = test.load_preprocessed_data()"
   ]
  },
  {
   "cell_type": "code",
   "execution_count": 5,
   "metadata": {},
   "outputs": [],
   "source": [
    "train_sample = 5\n",
    "train_data = test.prepared_data[:train_sample]\n",
    "train_labels = test.labels[:train_sample]"
   ]
  },
  {
   "cell_type": "code",
   "execution_count": 6,
   "metadata": {},
   "outputs": [
    {
     "data": {
      "text/plain": [
       "(5, 1024, 1024)"
      ]
     },
     "execution_count": 6,
     "metadata": {},
     "output_type": "execute_result"
    }
   ],
   "source": [
    "train_labels.shape"
   ]
  },
  {
   "cell_type": "code",
   "execution_count": 7,
   "metadata": {},
   "outputs": [],
   "source": [
    "test_sample = 1\n",
    "test_data = test.prepared_data[train_sample:train_sample + test_sample]\n",
    "test_labels = test.labels[train_sample:train_sample + test_sample]"
   ]
  },
  {
   "cell_type": "code",
   "execution_count": 11,
   "metadata": {},
   "outputs": [
    {
     "name": "stdout",
     "output_type": "stream",
     "text": [
      "Epoch 1/10, Loss: 1.6233\n",
      "Epoch 2/10, Loss: 1.6139\n",
      "Epoch 3/10, Loss: 1.6115\n",
      "Epoch 4/10, Loss: 1.6104\n",
      "Epoch 5/10, Loss: 1.6099\n",
      "Epoch 6/10, Loss: 1.6096\n",
      "Epoch 7/10, Loss: 1.6095\n",
      "Epoch 8/10, Loss: 1.6095\n",
      "Epoch 9/10, Loss: 1.6095\n",
      "Epoch 10/10, Loss: 1.6094\n",
      "Test Accuracy: 19.99%\n"
     ]
    },
    {
     "data": {
      "text/plain": [
       "19.9937555525038"
      ]
     },
     "execution_count": 11,
     "metadata": {},
     "output_type": "execute_result"
    }
   ],
   "source": [
    "# Initialize the segmentation pipeline\n",
    "segmentation_pipeline = SatelliteSegmentation(train_data, train_labels)\n",
    "\n",
    "# Train the model\n",
    "segmentation_pipeline.train(num_epochs=10)\n",
    "\n",
    "# Evaluate the model\n",
    "segmentation_pipeline.evaluate()"
   ]
  },
  {
   "cell_type": "code",
   "execution_count": null,
   "metadata": {},
   "outputs": [],
   "source": []
  }
 ],
 "metadata": {
  "kernelspec": {
   "display_name": "opencv_env",
   "language": "python",
   "name": "python3"
  },
  "language_info": {
   "codemirror_mode": {
    "name": "ipython",
    "version": 3
   },
   "file_extension": ".py",
   "mimetype": "text/x-python",
   "name": "python",
   "nbconvert_exporter": "python",
   "pygments_lexer": "ipython3",
   "version": "3.8.18"
  }
 },
 "nbformat": 4,
 "nbformat_minor": 2
}
