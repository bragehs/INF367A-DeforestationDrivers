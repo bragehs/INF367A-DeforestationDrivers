{
 "cells": [
  {
   "cell_type": "code",
   "execution_count": 7,
   "metadata": {},
   "outputs": [],
   "source": [
    "import os\n",
    "import json\n",
    "import rasterio\n",
    "import geopandas as gpd\n",
    "import matplotlib.pyplot as plt\n",
    "from matplotlib.lines import Line2D\n",
    "import numpy as np\n",
    "import tifffile as tiff\n",
    "from scipy.interpolate import griddata\n",
    "import cv2\n",
    "\n",
    "with open(\"testy.json\", \"a\") as file:\n",
    "\n",
    "    test={\"images\":[]}\n",
    "    for i in range(118):\n",
    "        curr={\"file_name\":f\"evaluation_{i}.tif\"}\n",
    "\n",
    "        curr[\"annotations\"]=[{\"class\":\"grassland_shrubland\",\"segmentation\":[0,0,1023,0,0,1023,1023,1023]}]\n",
    "        test[\"images\"].append(curr)\n",
    "    file.write(json.dumps(test, ensure_ascii=False, indent=4))\n"
   ]
  }
 ],
 "metadata": {
  "kernelspec": {
   "display_name": "INF265",
   "language": "python",
   "name": "python3"
  },
  "language_info": {
   "codemirror_mode": {
    "name": "ipython",
    "version": 3
   },
   "file_extension": ".py",
   "mimetype": "text/x-python",
   "name": "python",
   "nbconvert_exporter": "python",
   "pygments_lexer": "ipython3",
   "version": "3.12.8"
  }
 },
 "nbformat": 4,
 "nbformat_minor": 2
}
